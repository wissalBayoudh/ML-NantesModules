{
 "cells": [
  {
   "cell_type": "code",
   "execution_count": 1,
   "id": "a0e4db0e-f0a6-4d0e-a586-90daba88c433",
   "metadata": {},
   "outputs": [
    {
     "name": "stdout",
     "output_type": "stream",
     "text": [
      "Populating the interactive namespace from numpy and matplotlib\n"
     ]
    }
   ],
   "source": [
    "%pylab inline\n",
    "%config InlineBackend.figure_formats = ['retina']\n",
    "\n",
    "import numpy as np # linear algebra\n",
    "import pandas as pd # data processing\n",
    "import seaborn as sns \n",
    "\n",
    "sns.set_style('whitegrid')\n",
    "import matplotlib.pyplot as plt\n",
    "\n",
    "from numpy.random import choice\n",
    "from collections import Counter\n",
    "import itertools\n",
    "\n",
    "from sklearn.model_selection import StratifiedShuffleSplit, StratifiedKFold, GridSearchCV, RandomizedSearchCV\n",
    "from sklearn.preprocessing import MinMaxScaler\n",
    "from sklearn.preprocessing import FunctionTransformer\n",
    "#from sklearn.preprocessing import PolynomialFeatures\n",
    "from sklearn.decomposition import PCA, KernelPCA\n",
    "from imblearn.over_sampling import ADASYN\n",
    "#from sklearn.feature_selection import SelectKBest\n",
    "#from sklearn.feature_selection import f_classif, chi2, mutual_info_classif\n",
    "\n",
    "from sklearn.metrics import accuracy_score, classification_report, f1_score, roc_auc_score\n",
    "from sklearn.metrics import precision_score, recall_score\n",
    "from sklearn.metrics import roc_curve, precision_recall_curve, confusion_matrix\n",
    "\n",
    "from imblearn.pipeline import Pipeline\n",
    "from sklearn.cluster import AgglomerativeClustering\n",
    "from sklearn.linear_model import LogisticRegression\n",
    "from sklearn.svm import SVC\n",
    "from sklearn.neighbors import KNeighborsClassifier\n",
    "from sklearn.ensemble import RandomForestClassifier, ExtraTreesClassifier, GradientBoostingClassifier, AdaBoostClassifier\n",
    "from sklearn.ensemble import VotingClassifier"
   ]
  },
  {
   "cell_type": "code",
   "execution_count": 2,
   "id": "7cf854e4-d35a-49df-8450-4e3879080669",
   "metadata": {},
   "outputs": [],
   "source": [
    "# function to plot confusion matrix\n",
    "def vis_conf_matrix(conf_martix, model_name):\n",
    "    group_names = ['True Neg', 'False Pos', 'False Neg', 'True Pos']\n",
    "    group_counts = [\"{0:0.0f}\".format(value) for value in\n",
    "                    conf_martix.flatten()]\n",
    "    group_percentages = [\"{0:.2%}\".format(value) for value in\n",
    "                         conf_martix.flatten()/np.sum(conf_martix)]\n",
    "    labels = [f\"{v1}\\n{v2}\\n{v3}\" for v1, v2, v3 in\n",
    "              zip(group_names,group_counts,group_percentages)]\n",
    "    labels = np.asarray(labels).reshape(2,2)\n",
    "\n",
    "    _, ax = plt.subplots(figsize = (6,6))\n",
    "    ax = sns.heatmap(conf_martix, annot=labels, fmt = '', \n",
    "                     annot_kws = {\"size\": 20, \"weight\": \"bold\"}, cmap = 'Blues')  \n",
    "    labels = ['False', 'True']\n",
    "    ax.set_title('Confusion Matrix for {}'.format(model_name), fontsize = 15)\n",
    "    ax.set_xticklabels(labels, fontsize = 10)\n",
    "    ax.set_yticklabels(labels, fontsize = 10)\n",
    "    ax.set_xlabel('Prediction', fontsize = 15)\n",
    "    ax.set_ylabel('Ground Truth', fontsize = 15)"
   ]
  },
  {
   "cell_type": "code",
   "execution_count": 3,
   "id": "01605686-a5de-4b34-9ebc-de300e0085c4",
   "metadata": {},
   "outputs": [],
   "source": [
    "# define function that fits clustering model and returns data + clustering labels column\n",
    "def agg_cluster(data, n_clusters, linkage = 'ward'):\n",
    "    if n_clusters <= 0:\n",
    "        return data\n",
    "    else:\n",
    "        agg = AgglomerativeClustering(n_clusters = n_clusters, linkage = linkage)\n",
    "        new_col = agg.fit_predict(data)\n",
    "        new_col = new_col.reshape(len(new_col), 1)\n",
    "        data = np.append(data, new_col, axis=1)\n",
    "        return data"
   ]
  },
  {
   "cell_type": "code",
   "execution_count": 4,
   "id": "7634c8b5-966a-414e-9db0-83fe4bd43be2",
   "metadata": {},
   "outputs": [
    {
     "name": "stdout",
     "output_type": "stream",
     "text": [
      "Train data size:  (891, 12)\n",
      "Train data:  ['PassengerId', 'Survived', 'Pclass', 'Name', 'Sex', 'Age', 'SibSp', 'Parch', 'Ticket', 'Fare', 'Cabin', 'Embarked']\n",
      "----------------------------------------\n",
      "Test data size:  (418, 11)\n",
      "Test data:  ['PassengerId', 'Pclass', 'Name', 'Sex', 'Age', 'SibSp', 'Parch', 'Ticket', 'Fare', 'Cabin', 'Embarked']\n",
      "----------------------------------------\n"
     ]
    },
    {
     "data": {
      "text/html": [
       "<div>\n",
       "<style scoped>\n",
       "    .dataframe tbody tr th:only-of-type {\n",
       "        vertical-align: middle;\n",
       "    }\n",
       "\n",
       "    .dataframe tbody tr th {\n",
       "        vertical-align: top;\n",
       "    }\n",
       "\n",
       "    .dataframe thead th {\n",
       "        text-align: right;\n",
       "    }\n",
       "</style>\n",
       "<table border=\"1\" class=\"dataframe\">\n",
       "  <thead>\n",
       "    <tr style=\"text-align: right;\">\n",
       "      <th></th>\n",
       "      <th>PassengerId</th>\n",
       "      <th>Survived</th>\n",
       "      <th>Pclass</th>\n",
       "      <th>Name</th>\n",
       "      <th>Sex</th>\n",
       "      <th>Age</th>\n",
       "      <th>SibSp</th>\n",
       "      <th>Parch</th>\n",
       "      <th>Ticket</th>\n",
       "      <th>Fare</th>\n",
       "      <th>Cabin</th>\n",
       "      <th>Embarked</th>\n",
       "    </tr>\n",
       "  </thead>\n",
       "  <tbody>\n",
       "    <tr>\n",
       "      <th>0</th>\n",
       "      <td>1</td>\n",
       "      <td>0</td>\n",
       "      <td>3</td>\n",
       "      <td>Braund, Mr. Owen Harris</td>\n",
       "      <td>male</td>\n",
       "      <td>22.0</td>\n",
       "      <td>1</td>\n",
       "      <td>0</td>\n",
       "      <td>A/5 21171</td>\n",
       "      <td>7.2500</td>\n",
       "      <td>NaN</td>\n",
       "      <td>S</td>\n",
       "    </tr>\n",
       "    <tr>\n",
       "      <th>1</th>\n",
       "      <td>2</td>\n",
       "      <td>1</td>\n",
       "      <td>1</td>\n",
       "      <td>Cumings, Mrs. John Bradley (Florence Briggs Th...</td>\n",
       "      <td>female</td>\n",
       "      <td>38.0</td>\n",
       "      <td>1</td>\n",
       "      <td>0</td>\n",
       "      <td>PC 17599</td>\n",
       "      <td>71.2833</td>\n",
       "      <td>C85</td>\n",
       "      <td>C</td>\n",
       "    </tr>\n",
       "    <tr>\n",
       "      <th>2</th>\n",
       "      <td>3</td>\n",
       "      <td>1</td>\n",
       "      <td>3</td>\n",
       "      <td>Heikkinen, Miss. Laina</td>\n",
       "      <td>female</td>\n",
       "      <td>26.0</td>\n",
       "      <td>0</td>\n",
       "      <td>0</td>\n",
       "      <td>STON/O2. 3101282</td>\n",
       "      <td>7.9250</td>\n",
       "      <td>NaN</td>\n",
       "      <td>S</td>\n",
       "    </tr>\n",
       "    <tr>\n",
       "      <th>3</th>\n",
       "      <td>4</td>\n",
       "      <td>1</td>\n",
       "      <td>1</td>\n",
       "      <td>Futrelle, Mrs. Jacques Heath (Lily May Peel)</td>\n",
       "      <td>female</td>\n",
       "      <td>35.0</td>\n",
       "      <td>1</td>\n",
       "      <td>0</td>\n",
       "      <td>113803</td>\n",
       "      <td>53.1000</td>\n",
       "      <td>C123</td>\n",
       "      <td>S</td>\n",
       "    </tr>\n",
       "    <tr>\n",
       "      <th>4</th>\n",
       "      <td>5</td>\n",
       "      <td>0</td>\n",
       "      <td>3</td>\n",
       "      <td>Allen, Mr. William Henry</td>\n",
       "      <td>male</td>\n",
       "      <td>35.0</td>\n",
       "      <td>0</td>\n",
       "      <td>0</td>\n",
       "      <td>373450</td>\n",
       "      <td>8.0500</td>\n",
       "      <td>NaN</td>\n",
       "      <td>S</td>\n",
       "    </tr>\n",
       "  </tbody>\n",
       "</table>\n",
       "</div>"
      ],
      "text/plain": [
       "   PassengerId  Survived  Pclass  \\\n",
       "0            1         0       3   \n",
       "1            2         1       1   \n",
       "2            3         1       3   \n",
       "3            4         1       1   \n",
       "4            5         0       3   \n",
       "\n",
       "                                                Name     Sex   Age  SibSp  \\\n",
       "0                            Braund, Mr. Owen Harris    male  22.0      1   \n",
       "1  Cumings, Mrs. John Bradley (Florence Briggs Th...  female  38.0      1   \n",
       "2                             Heikkinen, Miss. Laina  female  26.0      0   \n",
       "3       Futrelle, Mrs. Jacques Heath (Lily May Peel)  female  35.0      1   \n",
       "4                           Allen, Mr. William Henry    male  35.0      0   \n",
       "\n",
       "   Parch            Ticket     Fare Cabin Embarked  \n",
       "0      0         A/5 21171   7.2500   NaN        S  \n",
       "1      0          PC 17599  71.2833   C85        C  \n",
       "2      0  STON/O2. 3101282   7.9250   NaN        S  \n",
       "3      0            113803  53.1000  C123        S  \n",
       "4      0            373450   8.0500   NaN        S  "
      ]
     },
     "execution_count": 4,
     "metadata": {},
     "output_type": "execute_result"
    }
   ],
   "source": [
    "# Load data\n",
    "train_data = pd.read_csv(\"train.csv\")\n",
    "test_data = pd.read_csv(\"test.csv\")\n",
    "print(\"Train data size: \", train_data.shape)\n",
    "print(\"Train data: \", train_data.columns.tolist())\n",
    "print(\"-\" * 40)\n",
    "print(\"Test data size: \", test_data.shape)\n",
    "print(\"Test data: \", test_data.columns.tolist())\n",
    "print(\"-\" * 40)\n",
    "train_data.head()"
   ]
  },
  {
   "cell_type": "code",
   "execution_count": 5,
   "id": "68e6848a-5e1c-4465-aaf1-771ff3b2d3df",
   "metadata": {},
   "outputs": [
    {
     "name": "stdout",
     "output_type": "stream",
     "text": [
      "<class 'pandas.core.frame.DataFrame'>\n",
      "RangeIndex: 891 entries, 0 to 890\n",
      "Data columns (total 12 columns):\n",
      " #   Column       Non-Null Count  Dtype  \n",
      "---  ------       --------------  -----  \n",
      " 0   PassengerId  891 non-null    int64  \n",
      " 1   Survived     891 non-null    int64  \n",
      " 2   Pclass       891 non-null    int64  \n",
      " 3   Name         891 non-null    object \n",
      " 4   Sex          891 non-null    object \n",
      " 5   Age          714 non-null    float64\n",
      " 6   SibSp        891 non-null    int64  \n",
      " 7   Parch        891 non-null    int64  \n",
      " 8   Ticket       891 non-null    object \n",
      " 9   Fare         891 non-null    float64\n",
      " 10  Cabin        204 non-null    object \n",
      " 11  Embarked     889 non-null    object \n",
      "dtypes: float64(2), int64(5), object(5)\n",
      "memory usage: 83.7+ KB\n"
     ]
    }
   ],
   "source": [
    "train_data.info()"
   ]
  },
  {
   "cell_type": "code",
   "execution_count": 6,
   "id": "6bb74f05-5e21-4bc9-8ebf-10087ff112c8",
   "metadata": {},
   "outputs": [
    {
     "name": "stdout",
     "output_type": "stream",
     "text": [
      "Train data:\n",
      " PassengerId      0\n",
      "Survived         0\n",
      "Pclass           0\n",
      "Name             0\n",
      "Sex              0\n",
      "Age            177\n",
      "SibSp            0\n",
      "Parch            0\n",
      "Ticket           0\n",
      "Fare             0\n",
      "Cabin          687\n",
      "Embarked         2\n",
      "dtype: int64\n",
      "----------------------------------------\n",
      "Test data:\n",
      " PassengerId      0\n",
      "Pclass           0\n",
      "Name             0\n",
      "Sex              0\n",
      "Age             86\n",
      "SibSp            0\n",
      "Parch            0\n",
      "Ticket           0\n",
      "Fare             1\n",
      "Cabin          327\n",
      "Embarked         0\n",
      "dtype: int64\n"
     ]
    }
   ],
   "source": [
    "# calculate how many missing values\n",
    "missing_values_count_train = train_data.isnull().sum()\n",
    "missing_values_count_test = test_data.isnull().sum()\n",
    "print(\"Train data:\\n\", missing_values_count_train)\n",
    "print('-'*40)\n",
    "print(\"Test data:\\n\", missing_values_count_test)"
   ]
  },
  {
   "cell_type": "code",
   "execution_count": 7,
   "id": "fa3534c1-cd02-47aa-bf34-b6a744dd815f",
   "metadata": {},
   "outputs": [
    {
     "data": {
      "text/plain": [
       "array([[40., 30., 25.],\n",
       "       [35., 28., 21.]])"
      ]
     },
     "execution_count": 7,
     "metadata": {},
     "output_type": "execute_result"
    }
   ],
   "source": [
    "# Calculate guess_age matrix for train data to later impute into both train and test datasets\n",
    "guess_age = np.zeros((2,3))\n",
    "sex = ['male', 'female']\n",
    "\n",
    "for i in range(0, 2):\n",
    "    for j in range(0, 3):\n",
    "        guess_age[i,j] = int(train_data[(train_data['Sex'] == sex[i]) \n",
    "                                        & (train_data['Pclass'] == j + 1)]['Age']\n",
    "                            .dropna()\n",
    "                            .median())\n",
    "guess_age"
   ]
  },
  {
   "cell_type": "code",
   "execution_count": 8,
   "id": "383881fc-e15a-468f-9d02-b05632663def",
   "metadata": {},
   "outputs": [],
   "source": [
    "# Copy train data into new data frame\n",
    "train1 = train_data.copy()\n",
    "test1 = test_data.copy()\n",
    "datasets = [train1, test1]"
   ]
  },
  {
   "cell_type": "code",
   "execution_count": 9,
   "id": "83c670ce-d784-4229-9671-fc6e62dd144f",
   "metadata": {},
   "outputs": [
    {
     "name": "stdout",
     "output_type": "stream",
     "text": [
      "Train data Embarked NAs:  0\n"
     ]
    }
   ],
   "source": [
    "# Impute NAs in Embarked column of the train dataset with the most frequent value (mode value)\n",
    "train1['Embarked'].fillna(train1['Embarked'].mode()[0], inplace = True)\n",
    "print(\"Train data Embarked NAs: \", train1.Embarked.isnull().sum())"
   ]
  },
  {
   "cell_type": "code",
   "execution_count": 10,
   "id": "c2eb6ab2-3b7c-425c-b522-d4ff856f9811",
   "metadata": {},
   "outputs": [
    {
     "name": "stdout",
     "output_type": "stream",
     "text": [
      "Pclass of NA value in the test data:  3\n",
      "Median value to impute:  8.05\n"
     ]
    }
   ],
   "source": [
    "# Find a Pclass value for the NA in the test data\n",
    "NA_pclass = int(test1[(test1.Fare.isnull())]['Pclass'])\n",
    "print(\"Pclass of NA value in the test data: \", NA_pclass)\n",
    "\n",
    "# Calculate median value for the Fare within that pclass\n",
    "fare_to_impute = train1[(train1['Pclass'] == NA_pclass)]['Fare'].median()\n",
    "print(\"Median value to impute: \", fare_to_impute)"
   ]
  },
  {
   "cell_type": "code",
   "execution_count": 12,
   "id": "8b54b9b8-7ee5-4e00-b76f-6b42ac9110c4",
   "metadata": {},
   "outputs": [
    {
     "name": "stdout",
     "output_type": "stream",
     "text": [
      "Train data Age NAs:  0\n",
      "Test data Age NAs:  0\n"
     ]
    }
   ],
   "source": [
    "# Impute NAs in Age with guess_age\n",
    "for dataset in datasets:\n",
    "    for i in range(0, 2):\n",
    "        for j in range(0, 3):\n",
    "            dataset.loc[(dataset.Age.isnull()) & (dataset.Sex == sex[i]) \n",
    "                        & (dataset.Pclass == j + 1), 'Age'] = guess_age[i,j]\n",
    "            \n",
    "print(\"Train data Age NAs: \", train1.Age.isnull().sum())\n",
    "print(\"Test data Age NAs: \", test1.Age.isnull().sum())"
   ]
  },
  {
   "cell_type": "code",
   "execution_count": 13,
   "id": "67fcbbcf-34cc-4266-a38a-9cf9df749f19",
   "metadata": {},
   "outputs": [
    {
     "name": "stdout",
     "output_type": "stream",
     "text": [
      "Train data:\n",
      " PassengerId      0\n",
      "Survived         0\n",
      "Pclass           0\n",
      "Name             0\n",
      "Sex              0\n",
      "Age              0\n",
      "SibSp            0\n",
      "Parch            0\n",
      "Ticket           0\n",
      "Fare             0\n",
      "Cabin          687\n",
      "Embarked         0\n",
      "dtype: int64\n",
      "----------------------------------------\n",
      "Test data:\n",
      " PassengerId      0\n",
      "Pclass           0\n",
      "Name             0\n",
      "Sex              0\n",
      "Age              0\n",
      "SibSp            0\n",
      "Parch            0\n",
      "Ticket           0\n",
      "Fare             1\n",
      "Cabin          327\n",
      "Embarked         0\n",
      "dtype: int64\n"
     ]
    }
   ],
   "source": [
    "# Check again for NAs\n",
    "print(\"Train data:\\n\", train1.isnull().sum())\n",
    "print('-'*40)\n",
    "print(\"Test data:\\n\", test1.isnull().sum())"
   ]
  },
  {
   "cell_type": "code",
   "execution_count": 14,
   "id": "479c503d-1a5f-4203-b894-bd9c05799609",
   "metadata": {},
   "outputs": [
    {
     "name": "stdout",
     "output_type": "stream",
     "text": [
      "<class 'pandas.core.frame.DataFrame'>\n",
      "RangeIndex: 891 entries, 0 to 890\n",
      "Data columns (total 9 columns):\n",
      " #   Column       Non-Null Count  Dtype  \n",
      "---  ------       --------------  -----  \n",
      " 0   PassengerId  891 non-null    int64  \n",
      " 1   Survived     891 non-null    int64  \n",
      " 2   Pclass       891 non-null    int64  \n",
      " 3   Sex          891 non-null    object \n",
      " 4   Age          891 non-null    float64\n",
      " 5   SibSp        891 non-null    int64  \n",
      " 6   Parch        891 non-null    int64  \n",
      " 7   Fare         891 non-null    float64\n",
      " 8   Embarked     891 non-null    object \n",
      "dtypes: float64(2), int64(5), object(2)\n",
      "memory usage: 62.8+ KB\n",
      "None\n",
      "----------------------------------------\n",
      "<class 'pandas.core.frame.DataFrame'>\n",
      "RangeIndex: 418 entries, 0 to 417\n",
      "Data columns (total 8 columns):\n",
      " #   Column       Non-Null Count  Dtype  \n",
      "---  ------       --------------  -----  \n",
      " 0   PassengerId  418 non-null    int64  \n",
      " 1   Pclass       418 non-null    int64  \n",
      " 2   Sex          418 non-null    object \n",
      " 3   Age          418 non-null    float64\n",
      " 4   SibSp        418 non-null    int64  \n",
      " 5   Parch        418 non-null    int64  \n",
      " 6   Fare         417 non-null    float64\n",
      " 7   Embarked     418 non-null    object \n",
      "dtypes: float64(2), int64(4), object(2)\n",
      "memory usage: 26.2+ KB\n",
      "None\n",
      "----------------------------------------\n"
     ]
    }
   ],
   "source": [
    "\n",
    "# columns to drop defenetly\n",
    "to_drop = ['Name', 'Ticket',  'Cabin']\n",
    "train2 = train1.copy().drop(to_drop, axis=1)\n",
    "test2 = test1.copy().drop(to_drop, axis=1)\n",
    "datasets2 = [train2, test2]\n",
    "\n",
    "for dataset in datasets2:\n",
    "    print(dataset.info())\n",
    "    print('-'*40)\n"
   ]
  },
  {
   "cell_type": "code",
   "execution_count": 15,
   "id": "3131a6ac-2acc-4d70-b974-66c14501d79d",
   "metadata": {},
   "outputs": [
    {
     "name": "stdout",
     "output_type": "stream",
     "text": [
      "Numerical variables:  ['Age', 'Fare', 'Survived', 'Pclass', 'SibSp', 'Parch']\n",
      "Numerical continuous variables:  ['Age', 'Fare']\n",
      "Numerical discrete variables:  ['Survived', 'Pclass', 'SibSp', 'Parch']\n",
      "Numerical and not binary variables:  ['Age', 'Fare', 'Pclass', 'SibSp', 'Parch']\n",
      "Binary variables:  ['Survived']\n",
      "Categorical variables:  ['Sex', 'Embarked']\n"
     ]
    }
   ],
   "source": [
    "# fix data type for PassengerId\n",
    "for dataset in datasets2:\n",
    "    dataset['PassengerId'] = dataset['PassengerId'].astype('object')\n",
    "\n",
    "# split columns into numerical and categorical (exclude the PassengerId)\n",
    "float_cols = train2.drop('PassengerId', axis=1).dtypes[train2.dtypes == 'float64'].index.tolist()\n",
    "int_cols = train2.drop('PassengerId', axis=1).dtypes[train2.dtypes == 'int64'].index.tolist()\n",
    "cat_cols = train2.drop('PassengerId', axis=1).dtypes[train2.dtypes == 'object'].index.tolist()\n",
    "num_cols = float_cols + int_cols\n",
    "binary = [x for x in num_cols if len(train2[x].unique()) == 2]\n",
    "num_not_binary = [x for x in num_cols if x not in binary]\n",
    "\n",
    "print(\"Numerical variables: \", num_cols)\n",
    "print(\"Numerical continuous variables: \", float_cols)\n",
    "print(\"Numerical discrete variables: \", int_cols)\n",
    "print(\"Numerical and not binary variables: \", num_not_binary)\n",
    "print(\"Binary variables: \", binary)\n",
    "print(\"Categorical variables: \", cat_cols)"
   ]
  },
  {
   "cell_type": "code",
   "execution_count": 16,
   "id": "77e4551b-61f7-4f6e-b768-abe9fc99bb6c",
   "metadata": {},
   "outputs": [
    {
     "name": "stdout",
     "output_type": "stream",
     "text": [
      "Numerical variables:  ['Age', 'Fare', 'Survived', 'Pclass', 'SibSp', 'Parch']\n",
      "Numerical continuous variables:  ['Age', 'Fare']\n",
      "Numerical discrete variables:  ['Survived', 'Pclass', 'SibSp', 'Parch']\n",
      "Numerical and not binary variables:  ['Age', 'Fare', 'Pclass', 'SibSp', 'Parch']\n",
      "Binary variables:  ['Survived']\n",
      "Categorical variables:  ['Sex', 'Embarked']\n"
     ]
    }
   ],
   "source": [
    "# update lists of columns (numerical and categorical)\n",
    "float_cols = train2.drop('PassengerId', axis=1).dtypes[train2.dtypes == 'float64'].index.tolist()\n",
    "int_cols = train2.drop('PassengerId', axis=1).dtypes[train2.dtypes == 'int64'].index.tolist()\n",
    "cat_cols = train2.drop('PassengerId', axis=1).dtypes[train2.dtypes == 'object'].index.tolist()\n",
    "num_cols = float_cols + int_cols\n",
    "binary = [x for x in num_cols if len(train2[x].unique()) == 2]\n",
    "num_not_binary = [x for x in num_cols if x not in binary]\n",
    "\n",
    "print(\"Numerical variables: \", num_cols)\n",
    "print(\"Numerical continuous variables: \", float_cols)\n",
    "print(\"Numerical discrete variables: \", int_cols)\n",
    "print(\"Numerical and not binary variables: \", num_not_binary)\n",
    "print(\"Binary variables: \", binary)\n",
    "print(\"Categorical variables: \", cat_cols)"
   ]
  },
  {
   "cell_type": "code",
   "execution_count": 17,
   "id": "779b1497-69f0-495d-b572-fb7eba1183d6",
   "metadata": {},
   "outputs": [
    {
     "name": "stdout",
     "output_type": "stream",
     "text": [
      "Features:  ['Age', 'Fare', 'Pclass', 'SibSp', 'Parch', 'Sex', 'Embarked']\n",
      "Categorical features:  ['Sex', 'Embarked']\n",
      "Numerical features:  ['Age', 'Fare', 'Pclass', 'SibSp', 'Parch']\n"
     ]
    }
   ],
   "source": [
    "target = [\"Survived\"]\n",
    "features = [x for x in num_cols + cat_cols if x not in target]\n",
    "cat_features = [x for x in features if x in cat_cols]\n",
    "num_features = [x for x in features if x in num_cols]\n",
    "print(\"Features: \", features)\n",
    "print(\"Categorical features: \", cat_features)\n",
    "print(\"Numerical features: \", num_features)\n"
   ]
  },
  {
   "cell_type": "code",
   "execution_count": 18,
   "id": "37a84189-4451-4d22-8e69-c7986b0e023a",
   "metadata": {},
   "outputs": [
    {
     "data": {
      "text/html": [
       "<div>\n",
       "<style scoped>\n",
       "    .dataframe tbody tr th:only-of-type {\n",
       "        vertical-align: middle;\n",
       "    }\n",
       "\n",
       "    .dataframe tbody tr th {\n",
       "        vertical-align: top;\n",
       "    }\n",
       "\n",
       "    .dataframe thead th {\n",
       "        text-align: right;\n",
       "    }\n",
       "</style>\n",
       "<table border=\"1\" class=\"dataframe\">\n",
       "  <thead>\n",
       "    <tr style=\"text-align: right;\">\n",
       "      <th></th>\n",
       "      <th>Age</th>\n",
       "      <th>Fare</th>\n",
       "      <th>Pclass</th>\n",
       "      <th>SibSp</th>\n",
       "      <th>Parch</th>\n",
       "      <th>Sex</th>\n",
       "      <th>Embarked</th>\n",
       "    </tr>\n",
       "  </thead>\n",
       "  <tbody>\n",
       "    <tr>\n",
       "      <th>0</th>\n",
       "      <td>22.0</td>\n",
       "      <td>7.2500</td>\n",
       "      <td>3</td>\n",
       "      <td>1</td>\n",
       "      <td>0</td>\n",
       "      <td>male</td>\n",
       "      <td>S</td>\n",
       "    </tr>\n",
       "    <tr>\n",
       "      <th>1</th>\n",
       "      <td>38.0</td>\n",
       "      <td>71.2833</td>\n",
       "      <td>1</td>\n",
       "      <td>1</td>\n",
       "      <td>0</td>\n",
       "      <td>female</td>\n",
       "      <td>C</td>\n",
       "    </tr>\n",
       "    <tr>\n",
       "      <th>2</th>\n",
       "      <td>26.0</td>\n",
       "      <td>7.9250</td>\n",
       "      <td>3</td>\n",
       "      <td>0</td>\n",
       "      <td>0</td>\n",
       "      <td>female</td>\n",
       "      <td>S</td>\n",
       "    </tr>\n",
       "    <tr>\n",
       "      <th>3</th>\n",
       "      <td>35.0</td>\n",
       "      <td>53.1000</td>\n",
       "      <td>1</td>\n",
       "      <td>1</td>\n",
       "      <td>0</td>\n",
       "      <td>female</td>\n",
       "      <td>S</td>\n",
       "    </tr>\n",
       "    <tr>\n",
       "      <th>4</th>\n",
       "      <td>35.0</td>\n",
       "      <td>8.0500</td>\n",
       "      <td>3</td>\n",
       "      <td>0</td>\n",
       "      <td>0</td>\n",
       "      <td>male</td>\n",
       "      <td>S</td>\n",
       "    </tr>\n",
       "  </tbody>\n",
       "</table>\n",
       "</div>"
      ],
      "text/plain": [
       "    Age     Fare  Pclass  SibSp  Parch     Sex Embarked\n",
       "0  22.0   7.2500       3      1      0    male        S\n",
       "1  38.0  71.2833       1      1      0  female        C\n",
       "2  26.0   7.9250       3      0      0  female        S\n",
       "3  35.0  53.1000       1      1      0  female        S\n",
       "4  35.0   8.0500       3      0      0    male        S"
      ]
     },
     "execution_count": 18,
     "metadata": {},
     "output_type": "execute_result"
    }
   ],
   "source": [
    "# get training data features and target\n",
    "X = train2[features].copy()\n",
    "y = train2[target].copy()\n",
    "X.head()"
   ]
  },
  {
   "cell_type": "code",
   "execution_count": 19,
   "id": "bb17daae-9c16-402f-9bcd-06bc35907bac",
   "metadata": {},
   "outputs": [],
   "source": [
    "# split training data into train and test sets\n",
    "# Get the split indexes\n",
    "strat_shuf_split = StratifiedShuffleSplit(n_splits=1, \n",
    "                                          test_size=0.4, \n",
    "                                          random_state=42)\n",
    "\n",
    "train_idx, test_idx = next(strat_shuf_split.split(X, y))\n",
    "\n",
    "# Create the dataframes for train and test\n",
    "X_train = X.loc[train_idx,]\n",
    "y_train = y.loc[train_idx,]\n",
    "\n",
    "X_test  = X.loc[test_idx,]\n",
    "y_test  = y.loc[test_idx,]"
   ]
  },
  {
   "cell_type": "code",
   "execution_count": 20,
   "id": "fa2a816e-2be9-4e10-9d81-7ae540048fe1",
   "metadata": {},
   "outputs": [
    {
     "data": {
      "text/html": [
       "<div>\n",
       "<style scoped>\n",
       "    .dataframe tbody tr th:only-of-type {\n",
       "        vertical-align: middle;\n",
       "    }\n",
       "\n",
       "    .dataframe tbody tr th {\n",
       "        vertical-align: top;\n",
       "    }\n",
       "\n",
       "    .dataframe thead th {\n",
       "        text-align: right;\n",
       "    }\n",
       "</style>\n",
       "<table border=\"1\" class=\"dataframe\">\n",
       "  <thead>\n",
       "    <tr style=\"text-align: right;\">\n",
       "      <th></th>\n",
       "      <th>Age</th>\n",
       "      <th>Fare</th>\n",
       "      <th>Pclass</th>\n",
       "      <th>SibSp</th>\n",
       "      <th>Parch</th>\n",
       "    </tr>\n",
       "  </thead>\n",
       "  <tbody>\n",
       "    <tr>\n",
       "      <th>count</th>\n",
       "      <td>534.000</td>\n",
       "      <td>534.000</td>\n",
       "      <td>534.000</td>\n",
       "      <td>534.000</td>\n",
       "      <td>534.000</td>\n",
       "    </tr>\n",
       "    <tr>\n",
       "      <th>mean</th>\n",
       "      <td>0.368</td>\n",
       "      <td>0.062</td>\n",
       "      <td>0.658</td>\n",
       "      <td>0.055</td>\n",
       "      <td>0.063</td>\n",
       "    </tr>\n",
       "    <tr>\n",
       "      <th>std</th>\n",
       "      <td>0.168</td>\n",
       "      <td>0.097</td>\n",
       "      <td>0.417</td>\n",
       "      <td>0.114</td>\n",
       "      <td>0.138</td>\n",
       "    </tr>\n",
       "    <tr>\n",
       "      <th>min</th>\n",
       "      <td>0.000</td>\n",
       "      <td>0.000</td>\n",
       "      <td>0.000</td>\n",
       "      <td>0.000</td>\n",
       "      <td>0.000</td>\n",
       "    </tr>\n",
       "    <tr>\n",
       "      <th>25%</th>\n",
       "      <td>0.259</td>\n",
       "      <td>0.015</td>\n",
       "      <td>0.500</td>\n",
       "      <td>0.000</td>\n",
       "      <td>0.000</td>\n",
       "    </tr>\n",
       "    <tr>\n",
       "      <th>50%</th>\n",
       "      <td>0.334</td>\n",
       "      <td>0.028</td>\n",
       "      <td>1.000</td>\n",
       "      <td>0.000</td>\n",
       "      <td>0.000</td>\n",
       "    </tr>\n",
       "    <tr>\n",
       "      <th>75%</th>\n",
       "      <td>0.472</td>\n",
       "      <td>0.059</td>\n",
       "      <td>1.000</td>\n",
       "      <td>0.125</td>\n",
       "      <td>0.000</td>\n",
       "    </tr>\n",
       "    <tr>\n",
       "      <th>max</th>\n",
       "      <td>1.000</td>\n",
       "      <td>1.000</td>\n",
       "      <td>1.000</td>\n",
       "      <td>1.000</td>\n",
       "      <td>1.000</td>\n",
       "    </tr>\n",
       "  </tbody>\n",
       "</table>\n",
       "</div>"
      ],
      "text/plain": [
       "           Age     Fare   Pclass    SibSp    Parch\n",
       "count  534.000  534.000  534.000  534.000  534.000\n",
       "mean     0.368    0.062    0.658    0.055    0.063\n",
       "std      0.168    0.097    0.417    0.114    0.138\n",
       "min      0.000    0.000    0.000    0.000    0.000\n",
       "25%      0.259    0.015    0.500    0.000    0.000\n",
       "50%      0.334    0.028    1.000    0.000    0.000\n",
       "75%      0.472    0.059    1.000    0.125    0.000\n",
       "max      1.000    1.000    1.000    1.000    1.000"
      ]
     },
     "execution_count": 20,
     "metadata": {},
     "output_type": "execute_result"
    }
   ],
   "source": [
    "# scale numeric columns\n",
    "mm = MinMaxScaler()\n",
    "\n",
    "for column in num_features:\n",
    "    X_train[[column]] = mm.fit_transform(X_train[[column]])\n",
    "    X_test[[column]] = mm.transform(X_test[[column]])\n",
    "\n",
    "round(X_train.describe(), 3)"
   ]
  },
  {
   "cell_type": "code",
   "execution_count": null,
   "id": "7c469428-d8fe-4e40-a583-9f8e72e141c6",
   "metadata": {},
   "outputs": [],
   "source": []
  }
 ],
 "metadata": {
  "kernelspec": {
   "display_name": "Python 3 (ipykernel)",
   "language": "python",
   "name": "python3"
  },
  "language_info": {
   "codemirror_mode": {
    "name": "ipython",
    "version": 3
   },
   "file_extension": ".py",
   "mimetype": "text/x-python",
   "name": "python",
   "nbconvert_exporter": "python",
   "pygments_lexer": "ipython3",
   "version": "3.9.7"
  }
 },
 "nbformat": 4,
 "nbformat_minor": 5
}
